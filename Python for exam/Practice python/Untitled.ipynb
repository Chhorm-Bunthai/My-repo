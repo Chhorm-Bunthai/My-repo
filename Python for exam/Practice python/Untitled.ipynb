{
 "cells": [
  {
   "cell_type": "code",
   "execution_count": 6,
   "id": "8e6194e8",
   "metadata": {},
   "outputs": [
    {
     "name": "stdout",
     "output_type": "stream",
     "text": [
      "enter meter:30\n",
      "enter lapms:10\n",
      "enter bright:2\n",
      "5\n"
     ]
    }
   ],
   "source": [
    "n = int(input(\"enter meter:\"))\n",
    "m = int(input(\"enter lapms:\"))\n",
    "k = int(input(\"enter bright:\"))\n",
    "\n",
    "if m < n:\n",
    "    meterLeft = n - (m * k) \n",
    "    needLamp = meterLeft / k\n",
    "    needLamp = int(needLamp)\n",
    "    print(needLamp)"
   ]
  },
  {
   "cell_type": "code",
   "execution_count": null,
   "id": "0833483d",
   "metadata": {},
   "outputs": [],
   "source": []
  }
 ],
 "metadata": {
  "kernelspec": {
   "display_name": "Python 3 (ipykernel)",
   "language": "python",
   "name": "python3"
  },
  "language_info": {
   "codemirror_mode": {
    "name": "ipython",
    "version": 3
   },
   "file_extension": ".py",
   "mimetype": "text/x-python",
   "name": "python",
   "nbconvert_exporter": "python",
   "pygments_lexer": "ipython3",
   "version": "3.10.9"
  }
 },
 "nbformat": 4,
 "nbformat_minor": 5
}
