{
 "cells": [
  {
   "cell_type": "code",
   "execution_count": 6,
   "id": "d27d6f5c",
   "metadata": {},
   "outputs": [
    {
     "name": "stdout",
     "output_type": "stream",
     "text": [
      "Enter n :4\n",
      "Sum is  10\n"
     ]
    }
   ],
   "source": [
    "n = -1\n",
    "while n <= 0:\n",
    "    n = int(input('Enter n :'))\n",
    "s = 0\n",
    "for i in range(1,n+1):\n",
    "    s += i\n",
    "print('Sum is ',s)"
   ]
  },
  {
   "cell_type": "code",
   "execution_count": null,
   "id": "ac1822fb",
   "metadata": {},
   "outputs": [],
   "source": [
    "select = None\n",
    "while select not in ['c','b','t']:\n",
    "    select = input('Choose between c b t :')\n",
    "print(select)"
   ]
  },
  {
   "cell_type": "raw",
   "id": "74e966a9",
   "metadata": {},
   "source": [
    "while True:\n",
    "    response = input('Has the construction been completed? :')\n",
    "    if response == 'yes':\n",
    "        break\n",
    "print('You escaped the loop.')"
   ]
  },
  {
   "cell_type": "code",
   "execution_count": 27,
   "id": "eb256138",
   "metadata": {
    "scrolled": false
   },
   "outputs": [
    {
     "name": "stdout",
     "output_type": "stream",
     "text": [
      "your pass :hf\n",
      "your pass :fhjfd\n",
      "your pass :bunthai\n",
      "logins seccessful\n"
     ]
    }
   ],
   "source": [
    "pas = \"\"\n",
    "while pas != 'bunthai':\n",
    "    pas = input('your pass :')\n",
    "print('logins seccessful')\n",
    "        \n",
    "        "
   ]
  },
  {
   "cell_type": "code",
   "execution_count": null,
   "id": "1842a8fd",
   "metadata": {},
   "outputs": [],
   "source": []
  }
 ],
 "metadata": {
  "kernelspec": {
   "display_name": "Python 3 (ipykernel)",
   "language": "python",
   "name": "python3"
  },
  "language_info": {
   "codemirror_mode": {
    "name": "ipython",
    "version": 3
   },
   "file_extension": ".py",
   "mimetype": "text/x-python",
   "name": "python",
   "nbconvert_exporter": "python",
   "pygments_lexer": "ipython3",
   "version": "3.10.9"
  }
 },
 "nbformat": 4,
 "nbformat_minor": 5
}
