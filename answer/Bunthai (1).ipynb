{
 "cells": [
  {
   "cell_type": "markdown",
   "id": "3fd25a23",
   "metadata": {},
   "source": [
    "# 3"
   ]
  },
  {
   "cell_type": "code",
   "execution_count": 10,
   "id": "47173711",
   "metadata": {},
   "outputs": [
    {
     "name": "stdout",
     "output_type": "stream",
     "text": [
      "Enter two integers:4 3\n",
      "3 4\n",
      "<class 'int'>\n"
     ]
    }
   ],
   "source": [
    "# 3.30mn\n",
    "num1, num2 = input(\"Enter two integers:\").split(' ')\n",
    "num1, num2 = int(num1),int(num2)\n",
    "if num1 > num2 :\n",
    "    print(num2,num1)\n",
    "else:\n",
    "    print(num1,num2)\n",
    "print(type(num1))"
   ]
  },
  {
   "cell_type": "markdown",
   "id": "d5b27b7e",
   "metadata": {},
   "source": [
    "---"
   ]
  },
  {
   "cell_type": "markdown",
   "id": "163584c6",
   "metadata": {},
   "source": [
    "# 39"
   ]
  },
  {
   "cell_type": "code",
   "execution_count": 8,
   "id": "220e2f01",
   "metadata": {},
   "outputs": [
    {
     "name": "stdout",
     "output_type": "stream",
     "text": [
      "#\n",
      "##\n",
      "###\n",
      "####\n",
      "#####\n"
     ]
    }
   ],
   "source": [
    "# 2mn\n",
    "print(\"#\")\n",
    "print(\"##\")\n",
    "print(\"###\")\n",
    "print(\"####\")\n",
    "print(\"#####\")"
   ]
  },
  {
   "cell_type": "markdown",
   "id": "989f324b",
   "metadata": {},
   "source": [
    "---"
   ]
  },
  {
   "cell_type": "markdown",
   "id": "66316569",
   "metadata": {},
   "source": [
    "# 128"
   ]
  },
  {
   "cell_type": "code",
   "execution_count": null,
   "id": "b50355ed",
   "metadata": {},
   "outputs": [],
   "source": [
    "# take me 1:40 mn\n",
    "n = int(input(\"enter meter:\"))\n",
    "m = int(input(\"enter lapms:\"))\n",
    "k = int(input(\"enter bright:\"))\n",
    "\n",
    "if m < n:\n",
    "    meterLeft = n - (m * k) \n",
    "    needLamp = meterLeft / k\n",
    "    needLamp = int(needLamp)\n",
    "    print(needLamp)"
   ]
  },
  {
   "cell_type": "code",
   "execution_count": null,
   "id": "30f02d91",
   "metadata": {},
   "outputs": [],
   "source": []
  }
 ],
 "metadata": {
  "kernelspec": {
   "display_name": "Python 3 (ipykernel)",
   "language": "python",
   "name": "python3"
  },
  "language_info": {
   "codemirror_mode": {
    "name": "ipython",
    "version": 3
   },
   "file_extension": ".py",
   "mimetype": "text/x-python",
   "name": "python",
   "nbconvert_exporter": "python",
   "pygments_lexer": "ipython3",
   "version": "3.10.9"
  }
 },
 "nbformat": 4,
 "nbformat_minor": 5
}
