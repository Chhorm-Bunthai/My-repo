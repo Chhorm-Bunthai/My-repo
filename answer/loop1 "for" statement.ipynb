{
 "cells": [
  {
   "cell_type": "code",
   "execution_count": null,
   "id": "bc2e20d7",
   "metadata": {},
   "outputs": [],
   "source": [
    "#loop-1: \"for\" statement "
   ]
  },
  {
   "cell_type": "code",
   "execution_count": 9,
   "id": "6742f1c9",
   "metadata": {},
   "outputs": [
    {
     "name": "stdout",
     "output_type": "stream",
     "text": [
      "Possible combinations of David's sandwich shops\n",
      "['Rye bread', 'Wheat', 'White']\n",
      "['Rye bread', 'Wheat', 'White']\n",
      "['Rye bread', 'Wheat', 'White']\n",
      "['Meatball', 'Sausages', 'Chicken breast']\n",
      "['Meatball', 'Sausages', 'Chicken breast']\n",
      "['Meatball', 'Sausages', 'Chicken breast']\n",
      "['Lettuce', 'Tomatoe', 'Cucumber']\n",
      "['Lettuce', 'Tomatoe', 'Cucumber']\n",
      "['Lettuce', 'Tomatoe', 'Cucumber']\n",
      "['Mayonnaise', 'Chili sauce', 'Honey mustard']\n",
      "['Mayonnaise', 'Chili sauce', 'Honey mustard']\n",
      "['Mayonnaise', 'Chili sauce', 'Honey mustard']\n",
      "White+Chicken breast+Cucumber+Honey mustard\n"
     ]
    }
   ],
   "source": [
    "breads = [\"Rye bread\", \"Wheat\", \"White\"]\n",
    "meats = [\"Meatball\", \"Sausages\", \"Chicken breast\"]\n",
    "vegetables = [\"Lettuce\", \"Tomatoe\", \"Cucumber\"]\n",
    "sauces = [\"Mayonnaise\", \"Chili sauce\", \"Honey mustard\"]\n",
    "\n",
    "print(\"Possible combinations of David's sandwich shops\")\n",
    "\n",
    "for b in breads :\n",
    "    print(breads)\n",
    "for m in meats :\n",
    "    print(meats)\n",
    "for v in vegetables :\n",
    "    print(vegetables)\n",
    "for s in sauces :\n",
    "    print(sauces)\n",
    "print(b+\"+\"+m+\"+\"+v+\"+\"+s)"
   ]
  },
  {
   "cell_type": "code",
   "execution_count": 6,
   "id": "da5be4a0",
   "metadata": {},
   "outputs": [
    {
     "name": "stdout",
     "output_type": "stream",
     "text": [
      "Welcome everyone!!!\n",
      "Welcome everyone!!!\n",
      "Welcome everyone!!!\n",
      "Welcome everyone!!!\n",
      "Welcome everyone!!!\n"
     ]
    }
   ],
   "source": [
    "for i in range(5) :\n",
    "    print('Welcome everyone!!!')"
   ]
  },
  {
   "cell_type": "code",
   "execution_count": 7,
   "id": "640945b6",
   "metadata": {},
   "outputs": [
    {
     "name": "stdout",
     "output_type": "stream",
     "text": [
      "Welcome everyone!!!\n",
      "Welcome everyone!!!\n",
      "Welcome everyone!!!\n",
      "Welcome everyone!!!\n",
      "Welcome everyone!!!\n"
     ]
    }
   ],
   "source": [
    "i = 0\n",
    "while i < 5 :\n",
    "    print('Welcome everyone!!!')\n",
    "    i += 1"
   ]
  },
  {
   "cell_type": "code",
   "execution_count": 10,
   "id": "1cd0b8ae",
   "metadata": {},
   "outputs": [
    {
     "name": "stdout",
     "output_type": "stream",
     "text": [
      "H e l l o "
     ]
    }
   ],
   "source": [
    "for ch in 'Hello' :\n",
    "    print(ch, end = \" \")"
   ]
  },
  {
   "cell_type": "code",
   "execution_count": 11,
   "id": "a1d5dbe4",
   "metadata": {},
   "outputs": [
    {
     "name": "stdout",
     "output_type": "stream",
     "text": [
      "s-e-p\n"
     ]
    }
   ],
   "source": [
    "print('s', 'e', 'p', sep = '-')"
   ]
  },
  {
   "cell_type": "code",
   "execution_count": 17,
   "id": "a0cfeb6c",
   "metadata": {},
   "outputs": [
    {
     "name": "stdout",
     "output_type": "stream",
     "text": [
      "My name is David\n",
      "My name is : David\n",
      "Mynameis David\n",
      "My name is : David Angela _ Baby\n"
     ]
    }
   ],
   "source": [
    "print(\"My name is\", end = \" \")\n",
    "print('David')\n",
    "\n",
    "print('My name is', end = \" : \")\n",
    "print('David')\n",
    "\n",
    "print(\"Mynameis\", end = \" \")\n",
    "print('David')\n",
    "\n",
    "\n",
    "print(\"My name is\", end = \" : \")\n",
    "print(\"David\", end = \" \")\n",
    "print('Angela', end = \" _ \")\n",
    "print('Baby')"
   ]
  },
  {
   "cell_type": "code",
   "execution_count": 18,
   "id": "278c2d6a",
   "metadata": {},
   "outputs": [
    {
     "name": "stdout",
     "output_type": "stream",
     "text": [
      "n =  11\n",
      "n =  22\n",
      "n =  33\n",
      "n =  44\n",
      "n =  55\n",
      "n =  66\n",
      "n =  77\n",
      "n =  88\n",
      "n =  99\n"
     ]
    }
   ],
   "source": [
    "numberss = [11, 22, 33, 44, 55, 66, 77, 88, 99]\n",
    "for n in numberss :\n",
    "    print('n = ', n)"
   ]
  },
  {
   "cell_type": "code",
   "execution_count": 19,
   "id": "c4b82dc5",
   "metadata": {},
   "outputs": [
    {
     "name": "stdout",
     "output_type": "stream",
     "text": [
      "Sum of list item values : 450\n"
     ]
    }
   ],
   "source": [
    "number = [10, 20, 30, 40, 50, 60, 70, 80, 90]\n",
    "s = 0\n",
    "for n in number :\n",
    "    s = s + n \n",
    "print('Sum of list item values :', s)"
   ]
  },
  {
   "cell_type": "code",
   "execution_count": 20,
   "id": "5ae10191",
   "metadata": {},
   "outputs": [
    {
     "name": "stdout",
     "output_type": "stream",
     "text": [
      "Sum of list item values : 450\n"
     ]
    }
   ],
   "source": [
    "number = [10, 20, 30, 40, 50, 60, 70, 80, 90]\n",
    "\n",
    "print('Sum of list item values :', sum(number))"
   ]
  },
  {
   "cell_type": "code",
   "execution_count": 21,
   "id": "3e3aa273",
   "metadata": {},
   "outputs": [
    {
     "name": "stdout",
     "output_type": "stream",
     "text": [
      "Welcome !!!!\n",
      "Welcome !!!!\n",
      "Welcome !!!!\n",
      "Welcome !!!!\n",
      "Welcome !!!!\n"
     ]
    }
   ],
   "source": [
    "for i in range(5) :\n",
    "    print('Welcome !!!!')"
   ]
  },
  {
   "cell_type": "code",
   "execution_count": 22,
   "id": "d694cf62",
   "metadata": {},
   "outputs": [
    {
     "name": "stdout",
     "output_type": "stream",
     "text": [
      "Haloooo!!!!!\n",
      "Haloooo!!!!!\n",
      "Haloooo!!!!!\n",
      "Haloooo!!!!!\n",
      "Haloooo!!!!!\n"
     ]
    }
   ],
   "source": [
    "# '_' is used when the variable is not needed and important\n",
    "\n",
    "for _ in range(5) :\n",
    "    print('Haloooo!!!!!')"
   ]
  },
  {
   "cell_type": "code",
   "execution_count": 25,
   "id": "c7a2cabd",
   "metadata": {},
   "outputs": [
    {
     "name": "stdout",
     "output_type": "stream",
     "text": [
      "Welcome !!!!\n",
      "Welcome !!!!\n",
      "Welcome !!!!\n",
      "Welcome !!!!\n",
      "Welcome !!!!\n"
     ]
    }
   ],
   "source": [
    "#It's possible to impletment the for statement that repaeats the print statement five times using a list.\n",
    "for _ in [1, 2, 3, 4, 5] :\n",
    "    print('Welcome !!!!')\n"
   ]
  },
  {
   "cell_type": "code",
   "execution_count": 26,
   "id": "195cc8e6",
   "metadata": {},
   "outputs": [
    {
     "name": "stdout",
     "output_type": "stream",
     "text": [
      "[0, 1, 2, 3, 4, 5, 6, 7, 8, 9, 10, 11, 12, 13, 14, 15, 16, 17, 18, 19, 20, 21, 22, 23, 24, 25, 26, 27, 28, 29, 30, 31, 32, 33, 34, 35, 36, 37, 38, 39, 40, 41, 42, 43, 44, 45, 46, 47, 48, 49, 50, 51, 52, 53, 54, 55, 56, 57, 58, 59, 60, 61, 62, 63, 64, 65, 66, 67, 68, 69, 70, 71, 72, 73, 74, 75, 76, 77, 78, 79, 80, 81, 82, 83, 84, 85, 86, 87, 88, 89, 90, 91, 92, 93, 94, 95, 96, 97, 98, 99, 100, 101, 102, 103, 104, 105, 106, 107, 108, 109, 110, 111, 112, 113, 114, 115, 116, 117, 118, 119, 120, 121, 122, 123, 124, 125, 126, 127, 128, 129, 130, 131, 132, 133, 134, 135, 136, 137, 138, 139, 140, 141, 142, 143, 144, 145, 146, 147, 148, 149, 150, 151, 152, 153, 154, 155, 156, 157, 158, 159, 160, 161, 162, 163, 164, 165, 166, 167, 168, 169, 170, 171, 172, 173, 174, 175, 176, 177, 178, 179, 180, 181, 182, 183, 184, 185, 186, 187, 188, 189, 190, 191, 192, 193, 194, 195, 196, 197, 198, 199, 200, 201, 202, 203, 204, 205, 206, 207, 208, 209, 210, 211, 212, 213, 214, 215, 216, 217, 218, 219, 220, 221, 222, 223, 224, 225, 226, 227, 228, 229, 230, 231, 232, 233, 234, 235, 236, 237, 238, 239, 240, 241, 242, 243, 244, 245, 246, 247, 248, 249, 250, 251, 252, 253, 254, 255, 256, 257, 258, 259, 260, 261, 262, 263, 264, 265, 266, 267, 268, 269, 270, 271, 272, 273, 274, 275, 276, 277, 278, 279, 280, 281, 282, 283, 284, 285, 286, 287, 288, 289, 290, 291, 292, 293, 294, 295, 296, 297, 298, 299, 300, 301, 302, 303, 304, 305, 306, 307, 308, 309, 310, 311, 312, 313, 314, 315, 316, 317, 318, 319, 320, 321, 322, 323, 324, 325, 326, 327, 328, 329, 330, 331, 332, 333, 334, 335, 336, 337, 338, 339, 340, 341, 342, 343, 344, 345, 346, 347, 348, 349, 350, 351, 352, 353, 354, 355, 356, 357, 358, 359, 360, 361, 362, 363, 364, 365, 366, 367, 368, 369, 370, 371, 372, 373, 374, 375, 376, 377, 378, 379, 380, 381, 382, 383, 384, 385, 386, 387, 388, 389, 390, 391, 392, 393, 394, 395, 396, 397, 398, 399, 400, 401, 402, 403, 404, 405, 406, 407, 408, 409, 410, 411, 412, 413, 414, 415, 416, 417, 418, 419, 420, 421, 422, 423, 424, 425, 426, 427, 428, 429, 430, 431, 432, 433, 434, 435, 436, 437, 438, 439, 440, 441, 442, 443, 444, 445, 446, 447, 448, 449, 450, 451, 452, 453, 454, 455, 456, 457, 458, 459, 460, 461, 462, 463, 464, 465, 466, 467, 468, 469, 470, 471, 472, 473, 474, 475, 476, 477, 478, 479, 480, 481, 482, 483, 484, 485, 486, 487, 488, 489, 490, 491, 492, 493, 494, 495, 496, 497, 498, 499, 500, 501, 502, 503, 504, 505, 506, 507, 508, 509, 510, 511, 512, 513, 514, 515, 516, 517, 518, 519, 520, 521, 522, 523, 524, 525, 526, 527, 528, 529, 530, 531, 532, 533, 534, 535, 536, 537, 538, 539, 540, 541, 542, 543, 544, 545, 546, 547, 548, 549, 550, 551, 552, 553, 554, 555, 556, 557, 558, 559, 560, 561, 562, 563, 564, 565, 566, 567, 568, 569, 570, 571, 572, 573, 574, 575, 576, 577, 578, 579, 580, 581, 582, 583, 584, 585, 586, 587, 588, 589, 590, 591, 592, 593, 594, 595, 596, 597, 598, 599, 600, 601, 602, 603, 604, 605, 606, 607, 608, 609, 610, 611, 612, 613, 614, 615, 616, 617, 618, 619, 620, 621, 622, 623, 624, 625, 626, 627, 628, 629, 630, 631, 632, 633, 634, 635, 636, 637, 638, 639, 640, 641, 642, 643, 644, 645, 646, 647, 648, 649, 650, 651, 652, 653, 654, 655, 656, 657, 658, 659, 660, 661, 662, 663, 664, 665, 666, 667, 668, 669, 670, 671, 672, 673, 674, 675, 676, 677, 678, 679, 680, 681, 682, 683, 684, 685, 686, 687, 688, 689, 690, 691, 692, 693, 694, 695, 696, 697, 698, 699, 700, 701, 702, 703, 704, 705, 706, 707, 708, 709, 710, 711, 712, 713, 714, 715, 716, 717, 718, 719, 720, 721, 722, 723, 724, 725, 726, 727, 728, 729, 730, 731, 732, 733, 734, 735, 736, 737, 738, 739, 740, 741, 742, 743, 744, 745, 746, 747, 748, 749, 750, 751, 752, 753, 754, 755, 756, 757, 758, 759, 760, 761, 762, 763, 764, 765, 766, 767, 768, 769, 770, 771, 772, 773, 774, 775, 776, 777, 778, 779, 780, 781, 782, 783, 784, 785, 786, 787, 788, 789, 790, 791, 792, 793, 794, 795, 796, 797, 798, 799, 800, 801, 802, 803, 804, 805, 806, 807, 808, 809, 810, 811, 812, 813, 814, 815, 816, 817, 818, 819, 820, 821, 822, 823, 824, 825, 826, 827, 828, 829, 830, 831, 832, 833, 834, 835, 836, 837, 838, 839, 840, 841, 842, 843, 844, 845, 846, 847, 848, 849, 850, 851, 852, 853, 854, 855, 856, 857, 858, 859, 860, 861, 862, 863, 864, 865, 866, 867, 868, 869, 870, 871, 872, 873, 874, 875, 876, 877, 878, 879, 880, 881, 882, 883, 884, 885, 886, 887, 888, 889, 890, 891, 892, 893, 894, 895, 896, 897, 898, 899, 900, 901, 902, 903, 904, 905, 906, 907, 908, 909, 910, 911, 912, 913, 914, 915, 916, 917, 918, 919, 920, 921, 922, 923, 924, 925, 926, 927, 928, 929, 930, 931, 932, 933, 934, 935, 936, 937, 938, 939, 940, 941, 942, 943, 944, 945, 946, 947, 948, 949, 950, 951, 952, 953, 954, 955, 956, 957, 958, 959, 960, 961, 962, 963, 964, 965, 966, 967, 968, 969, 970, 971, 972, 973, 974, 975, 976, 977, 978, 979, 980, 981, 982, 983, 984, 985, 986, 987, 988, 989, 990, 991, 992, 993, 994, 995, 996, 997, 998, 999]\n"
     ]
    }
   ],
   "source": [
    "print(list(range(1000)))"
   ]
  },
  {
   "cell_type": "code",
   "execution_count": 36,
   "id": "230bf03c",
   "metadata": {},
   "outputs": [
    {
     "name": "stdout",
     "output_type": "stream",
     "text": [
      "[0, 1, 2, 3, 4, 5, 6]\n",
      "[0, 1, 2, 3, 4, 5, 6]\n",
      "[0, 2, 4, 6, 8]\n",
      "[]\n",
      "[10, 8, 6, 4, 2]\n",
      "[10, 8, 6, 4, 2, 0]\n",
      "[-4, -2, 0, 2, 4, 6, 8]\n"
     ]
    }
   ],
   "source": [
    "print(list(range(7)))\n",
    "\n",
    "print(list(range(0, 7)))\n",
    "\n",
    "\n",
    "print(list(range(0,10,2)))\n",
    "print(list(range(0,10,-2)))\n",
    "print(list(range(10,0,-2)))\n",
    "\n",
    "print(list(range(10, -1, -2)))\n",
    "print(list(range(-4, 10, 2)))"
   ]
  },
  {
   "cell_type": "code",
   "execution_count": 37,
   "id": "a9b5ae3a",
   "metadata": {},
   "outputs": [
    {
     "name": "stdout",
     "output_type": "stream",
     "text": [
      "[0.9 1.  1.1]\n"
     ]
    }
   ],
   "source": [
    "#Range could not include floating number then we use  the numpy module's arange() function: \n",
    "import numpy as np\n",
    "print(np.arange(0.9,1.2, 0.1))"
   ]
  },
  {
   "cell_type": "code",
   "execution_count": 40,
   "id": "ce30f8ea",
   "metadata": {},
   "outputs": [
    {
     "name": "stdout",
     "output_type": "stream",
     "text": [
      "Enter a number : 8\n",
      "8! = 40320\n"
     ]
    }
   ],
   "source": [
    "#Calculate factorial\n",
    "n = int(input('Enter a number : '))\n",
    "fact = 1\n",
    "for i in range(1, n + 1) :\n",
    "    fact = fact * i\n",
    "print(str(n) + '! =', fact)"
   ]
  },
  {
   "cell_type": "code",
   "execution_count": 43,
   "id": "d3ea25bd",
   "metadata": {},
   "outputs": [
    {
     "name": "stdout",
     "output_type": "stream",
     "text": [
      "RM\n",
      "V\n",
      "Suga\n",
      "J-hope\n",
      "Jin\n",
      "Jimin\n",
      "Jongkook\n"
     ]
    }
   ],
   "source": [
    "bts = ['RM', 'V', 'Suga', 'J-hope', 'Jin', 'Jimin', 'Jongkook']\n",
    "for n in bts :\n",
    "    print(n)"
   ]
  },
  {
   "cell_type": "code",
   "execution_count": 56,
   "id": "f572b662",
   "metadata": {},
   "outputs": [
    {
     "name": "stdout",
     "output_type": "stream",
     "text": [
      "Sum of integers from 1 to 100 :  5050\n"
     ]
    }
   ],
   "source": [
    "i = sum(range(1, 101, 1))\n",
    "\n",
    "\n",
    "\n",
    "print('Sum of integers from 1 to 100 : ', i)"
   ]
  },
  {
   "cell_type": "code",
   "execution_count": 68,
   "id": "de54782f",
   "metadata": {},
   "outputs": [
    {
     "name": "stdout",
     "output_type": "stream",
     "text": [
      "Sum of integers from 1 to 100 :  5050\n"
     ]
    }
   ],
   "source": [
    "n = range(1, 101)\n",
    "\n",
    "i = 0 \n",
    "for s in n :\n",
    "    i = i + s\n",
    "print('Sum of integers from 1 to 100 : ', i)"
   ]
  },
  {
   "cell_type": "code",
   "execution_count": 65,
   "id": "51191255",
   "metadata": {},
   "outputs": [
    {
     "name": "stdout",
     "output_type": "stream",
     "text": [
      "range(0, 5)\n"
     ]
    }
   ],
   "source": [
    "n = range(5)\n",
    "print(n)"
   ]
  },
  {
   "cell_type": "code",
   "execution_count": 70,
   "id": "f49496d4",
   "metadata": {},
   "outputs": [
    {
     "name": "stdout",
     "output_type": "stream",
     "text": [
      "Sum of even numbers from 1 to 100 :  2550\n"
     ]
    }
   ],
   "source": [
    "n = range(0, 101, 2)\n",
    "i = 0\n",
    "for s in n : \n",
    "    i = i + s\n",
    "print('Sum of even numbers from 1 to 100 : ', i)"
   ]
  },
  {
   "cell_type": "code",
   "execution_count": 71,
   "id": "baa542ba",
   "metadata": {},
   "outputs": [
    {
     "name": "stdout",
     "output_type": "stream",
     "text": [
      "Sum of odd numbers from 1 to 100 :  2500\n"
     ]
    }
   ],
   "source": [
    "n = range(1, 101, 2)\n",
    "i = 0\n",
    "for s in n : \n",
    "    i = i + s\n",
    "print('Sum of odd numbers from 1 to 100 : ', i)\n"
   ]
  },
  {
   "cell_type": "code",
   "execution_count": 75,
   "id": "b0b068aa",
   "metadata": {},
   "outputs": [
    {
     "name": "stdout",
     "output_type": "stream",
     "text": [
      "Possible combinations of David's sandwich shops\n",
      "Rye bread+Meatball+Lettuce+Mayonnaise\n",
      "Rye bread+Meatball+Lettuce+Chili sauce\n",
      "Rye bread+Meatball+Lettuce+Honey mustard\n",
      "Rye bread+Meatball+Tomatoe+Mayonnaise\n",
      "Rye bread+Meatball+Tomatoe+Chili sauce\n",
      "Rye bread+Meatball+Tomatoe+Honey mustard\n",
      "Rye bread+Meatball+Cucumber+Mayonnaise\n",
      "Rye bread+Meatball+Cucumber+Chili sauce\n",
      "Rye bread+Meatball+Cucumber+Honey mustard\n",
      "Rye bread+Sausages+Lettuce+Mayonnaise\n",
      "Rye bread+Sausages+Lettuce+Chili sauce\n",
      "Rye bread+Sausages+Lettuce+Honey mustard\n",
      "Rye bread+Sausages+Tomatoe+Mayonnaise\n",
      "Rye bread+Sausages+Tomatoe+Chili sauce\n",
      "Rye bread+Sausages+Tomatoe+Honey mustard\n",
      "Rye bread+Sausages+Cucumber+Mayonnaise\n",
      "Rye bread+Sausages+Cucumber+Chili sauce\n",
      "Rye bread+Sausages+Cucumber+Honey mustard\n",
      "Rye bread+Chicken breast+Lettuce+Mayonnaise\n",
      "Rye bread+Chicken breast+Lettuce+Chili sauce\n",
      "Rye bread+Chicken breast+Lettuce+Honey mustard\n",
      "Rye bread+Chicken breast+Tomatoe+Mayonnaise\n",
      "Rye bread+Chicken breast+Tomatoe+Chili sauce\n",
      "Rye bread+Chicken breast+Tomatoe+Honey mustard\n",
      "Rye bread+Chicken breast+Cucumber+Mayonnaise\n",
      "Rye bread+Chicken breast+Cucumber+Chili sauce\n",
      "Rye bread+Chicken breast+Cucumber+Honey mustard\n",
      "Wheat+Meatball+Lettuce+Mayonnaise\n",
      "Wheat+Meatball+Lettuce+Chili sauce\n",
      "Wheat+Meatball+Lettuce+Honey mustard\n",
      "Wheat+Meatball+Tomatoe+Mayonnaise\n",
      "Wheat+Meatball+Tomatoe+Chili sauce\n",
      "Wheat+Meatball+Tomatoe+Honey mustard\n",
      "Wheat+Meatball+Cucumber+Mayonnaise\n",
      "Wheat+Meatball+Cucumber+Chili sauce\n",
      "Wheat+Meatball+Cucumber+Honey mustard\n",
      "Wheat+Sausages+Lettuce+Mayonnaise\n",
      "Wheat+Sausages+Lettuce+Chili sauce\n",
      "Wheat+Sausages+Lettuce+Honey mustard\n",
      "Wheat+Sausages+Tomatoe+Mayonnaise\n",
      "Wheat+Sausages+Tomatoe+Chili sauce\n",
      "Wheat+Sausages+Tomatoe+Honey mustard\n",
      "Wheat+Sausages+Cucumber+Mayonnaise\n",
      "Wheat+Sausages+Cucumber+Chili sauce\n",
      "Wheat+Sausages+Cucumber+Honey mustard\n",
      "Wheat+Chicken breast+Lettuce+Mayonnaise\n",
      "Wheat+Chicken breast+Lettuce+Chili sauce\n",
      "Wheat+Chicken breast+Lettuce+Honey mustard\n",
      "Wheat+Chicken breast+Tomatoe+Mayonnaise\n",
      "Wheat+Chicken breast+Tomatoe+Chili sauce\n",
      "Wheat+Chicken breast+Tomatoe+Honey mustard\n",
      "Wheat+Chicken breast+Cucumber+Mayonnaise\n",
      "Wheat+Chicken breast+Cucumber+Chili sauce\n",
      "Wheat+Chicken breast+Cucumber+Honey mustard\n",
      "White+Meatball+Lettuce+Mayonnaise\n",
      "White+Meatball+Lettuce+Chili sauce\n",
      "White+Meatball+Lettuce+Honey mustard\n",
      "White+Meatball+Tomatoe+Mayonnaise\n",
      "White+Meatball+Tomatoe+Chili sauce\n",
      "White+Meatball+Tomatoe+Honey mustard\n",
      "White+Meatball+Cucumber+Mayonnaise\n",
      "White+Meatball+Cucumber+Chili sauce\n",
      "White+Meatball+Cucumber+Honey mustard\n",
      "White+Sausages+Lettuce+Mayonnaise\n",
      "White+Sausages+Lettuce+Chili sauce\n",
      "White+Sausages+Lettuce+Honey mustard\n",
      "White+Sausages+Tomatoe+Mayonnaise\n",
      "White+Sausages+Tomatoe+Chili sauce\n",
      "White+Sausages+Tomatoe+Honey mustard\n",
      "White+Sausages+Cucumber+Mayonnaise\n",
      "White+Sausages+Cucumber+Chili sauce\n",
      "White+Sausages+Cucumber+Honey mustard\n",
      "White+Chicken breast+Lettuce+Mayonnaise\n",
      "White+Chicken breast+Lettuce+Chili sauce\n",
      "White+Chicken breast+Lettuce+Honey mustard\n",
      "White+Chicken breast+Tomatoe+Mayonnaise\n",
      "White+Chicken breast+Tomatoe+Chili sauce\n",
      "White+Chicken breast+Tomatoe+Honey mustard\n",
      "White+Chicken breast+Cucumber+Mayonnaise\n",
      "White+Chicken breast+Cucumber+Chili sauce\n",
      "White+Chicken breast+Cucumber+Honey mustard\n"
     ]
    }
   ],
   "source": [
    "breads = [\"Rye bread\", \"Wheat\", \"White\"]\n",
    "meats = [\"Meatball\", \"Sausages\", \"Chicken breast\"]\n",
    "vegetables = [\"Lettuce\", \"Tomatoe\", \"Cucumber\"]\n",
    "sauces = [\"Mayonnaise\", \"Chili sauce\", \"Honey mustard\"]\n",
    "\n",
    "print(\"Possible combinations of David's sandwich shops\")\n",
    "\n",
    "for b in breads :\n",
    "    for m in meats :\n",
    "        for v in vegetables :\n",
    "            for s in sauces :\n",
    "                print(b+\"+\"+m+\"+\"+v+\"+\"+s)\n"
   ]
  },
  {
   "cell_type": "code",
   "execution_count": 119,
   "id": "3ad9c6d1",
   "metadata": {},
   "outputs": [
    {
     "name": "stdout",
     "output_type": "stream",
     "text": [
      "Enter n : 3\n",
      "1 2 3 \n",
      "6 5 4 "
     ]
    }
   ],
   "source": [
    "n = int(input('Enter n : '))\n",
    "\n",
    "for i in range(1, n + 1) : \n",
    "    i  = \n",
    "    print(i, end = \" \")\n",
    "print()\n",
    "for j in range(n + n, n, -1) :\n",
    "    print(j, end = \" \")"
   ]
  },
  {
   "cell_type": "code",
   "execution_count": 24,
   "id": "e6b4eade",
   "metadata": {},
   "outputs": [
    {
     "name": "stdout",
     "output_type": "stream",
     "text": [
      "Enter n : 3\n",
      "1 2 3 \n",
      "18 17 16 15 14 13 12 11 10 \n"
     ]
    }
   ],
   "source": [
    "n = int(input('Enter n : '))\n",
    "\n",
    "s = 1\n",
    "for i in range(1, n) : \n",
    "    if i % 2 != 0 :\n",
    "        for i in range(s, n + s) : \n",
    "            print(i, end = \" \")\n",
    "        print()\n",
    "        s = s + (n * n)\n",
    "       \n",
    "    else :  \n",
    "        for j in range(s + ((n * n) - 1), s - 1, -1): \n",
    "            print(j, end = \" \")\n",
    "        print() \n",
    "        s = s + (n * n)\n",
    "  \n",
    "\n"
   ]
  },
  {
   "cell_type": "code",
   "execution_count": null,
   "id": "b880c90a",
   "metadata": {},
   "outputs": [],
   "source": []
  },
  {
   "cell_type": "code",
   "execution_count": null,
   "id": "088bf77e",
   "metadata": {},
   "outputs": [],
   "source": []
  },
  {
   "cell_type": "code",
   "execution_count": null,
   "id": "5a6a96a7",
   "metadata": {},
   "outputs": [],
   "source": []
  },
  {
   "cell_type": "code",
   "execution_count": null,
   "id": "85268b3a",
   "metadata": {},
   "outputs": [],
   "source": []
  },
  {
   "cell_type": "code",
   "execution_count": null,
   "id": "e70bbc66",
   "metadata": {},
   "outputs": [],
   "source": []
  },
  {
   "cell_type": "code",
   "execution_count": null,
   "id": "ec96b026",
   "metadata": {},
   "outputs": [],
   "source": []
  },
  {
   "cell_type": "code",
   "execution_count": null,
   "id": "0d069236",
   "metadata": {},
   "outputs": [],
   "source": []
  },
  {
   "cell_type": "code",
   "execution_count": null,
   "id": "1079d554",
   "metadata": {},
   "outputs": [],
   "source": []
  },
  {
   "cell_type": "code",
   "execution_count": null,
   "id": "8397f8ea",
   "metadata": {},
   "outputs": [],
   "source": []
  },
  {
   "cell_type": "code",
   "execution_count": null,
   "id": "adbff4b9",
   "metadata": {},
   "outputs": [],
   "source": []
  }
 ],
 "metadata": {
  "kernelspec": {
   "display_name": "Python 3 (ipykernel)",
   "language": "python",
   "name": "python3"
  },
  "language_info": {
   "codemirror_mode": {
    "name": "ipython",
    "version": 3
   },
   "file_extension": ".py",
   "mimetype": "text/x-python",
   "name": "python",
   "nbconvert_exporter": "python",
   "pygments_lexer": "ipython3",
   "version": "3.10.9"
  }
 },
 "nbformat": 4,
 "nbformat_minor": 5
}
