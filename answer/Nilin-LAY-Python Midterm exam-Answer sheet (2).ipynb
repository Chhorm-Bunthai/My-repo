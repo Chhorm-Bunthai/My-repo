{
 "cells": [
  {
   "cell_type": "markdown",
   "id": "3fd25a23",
   "metadata": {},
   "source": [
    "# 3"
   ]
  },
  {
   "cell_type": "code",
   "execution_count": 13,
   "id": "47173711",
   "metadata": {
    "scrolled": false
   },
   "outputs": [
    {
     "name": "stdout",
     "output_type": "stream",
     "text": [
      "Enter two integers separated by space: 10 10\n",
      "The numbers are equal.\n"
     ]
    }
   ],
   "source": [
    "num1, num2 = input(\"Enter two integers separated by space: \").split()\n",
    "num1 = int(num1)\n",
    "num2 = int(num2)\n",
    "if num1 < num2 :\n",
    "    print(\"smallest to largest: {},{}\".format(num1, num2))\n",
    "elif num1 > num2: \n",
    "    print(\"smallest to largest: {},{}\".format(num2, num1))\n",
    "else: \n",
    "    print(\"The numbers are equal.\")"
   ]
  },
  {
   "cell_type": "markdown",
   "id": "d5b27b7e",
   "metadata": {},
   "source": [
    "---"
   ]
  },
  {
   "cell_type": "markdown",
   "id": "163584c6",
   "metadata": {},
   "source": [
    "# 39"
   ]
  },
  {
   "cell_type": "code",
   "execution_count": 14,
   "id": "220e2f01",
   "metadata": {},
   "outputs": [
    {
     "name": "stdout",
     "output_type": "stream",
     "text": [
      "#\n",
      "##\n",
      "###\n",
      "####\n",
      "#####\n"
     ]
    }
   ],
   "source": [
    "print('#')\n",
    "print('##')\n",
    "print('#'*3)\n",
    "print('#'*4)\n",
    "print('#'*5)"
   ]
  },
  {
   "cell_type": "markdown",
   "id": "989f324b",
   "metadata": {},
   "source": [
    "---"
   ]
  },
  {
   "cell_type": "markdown",
   "id": "66316569",
   "metadata": {},
   "source": [
    "# 128"
   ]
  },
  {
   "cell_type": "code",
   "execution_count": 11,
   "id": "b50355ed",
   "metadata": {},
   "outputs": [
    {
     "name": "stdout",
     "output_type": "stream",
     "text": [
      " 5\n",
      " 2\n",
      " 2\n",
      " 1\n",
      " 5\n",
      "[0, 1, 0, 0, 0, 1]\n",
      "0\n"
     ]
    }
   ],
   "source": [
    "n=int(input(\" \"))\n",
    "m=int(input(\" \"))\n",
    "k=int(input(\" \"))\n",
    "\n",
    "pos1=int(input(\" \"))\n",
    "pos2=int(input(\" \"))\n",
    "lamp = [0]* (n+1)\n",
    "dis_left=0\n",
    "lam = m\n",
    "count = 0\n",
    "for i in range(1,n+1):\n",
    "    if i == pos1:\n",
    "        lamp[i]=1\n",
    "    if i == pos2:\n",
    "        lamp[i]=1\n",
    "print(lamp)\n",
    "for i in range(n-1):\n",
    "    if lamp[i]== 1 and lamp[i+1]!= 1: \n",
    "        if lamp[i+1]!= 1:\n",
    "            i += k\n",
    "            lam -= 1\n",
    "            # print(i, lam)\n",
    "            dis_left = n - i\n",
    "            if dis_left <= k:\n",
    "                lam -=1\n",
    "                # print(lam)\n",
    "                if lam < 0:\n",
    "                    count += 1\n",
    "    elif lamp[i]==1 and lamp[i+1]==1: \n",
    "        lam -=2\n",
    "        i= i+1\n",
    "    else: \n",
    "        continue\n",
    "print(count)"
   ]
  },
  {
   "cell_type": "code",
   "execution_count": null,
   "id": "6f4913ef",
   "metadata": {},
   "outputs": [],
   "source": [
    "#Version 2\n",
    "n=int(input(\" \"))\n",
    "m=int(input(\" \"))\n",
    "k=int(input(\" \"))\n",
    "pos=[]\n",
    "dis_from_left = 0\n",
    "count = 0\n",
    "lam_temp = m\n",
    "for i in range(m):\n",
    "    p=int(input(\" \"))\n",
    "    pos.append(p)\n",
    "print(pos)\n",
    "road=[0] * (n+1)\n",
    "for i in range(len(pos)):\n",
    "    road[pos[i]]=1\n",
    "print(road)\n",
    "for i in range(n+1):\n",
    "    if road[i]!= 1: \n",
    "        dis_from_left +=1\n",
    "        if dis_from_left > k and road[i]!= 1: \n",
    "            count += 1 \n",
    "            dis_from_left = 0\n",
    "        elif dis_from_left > k and road[i]== 1:\n",
    "            dis_from_left = 0\n",
    "    elif road[i]== 1:\n",
    "        dis_from_left = 0\n",
    "        continue\n",
    "print(count)"
   ]
  },
  {
   "cell_type": "code",
   "execution_count": null,
   "id": "bf3d9aaa",
   "metadata": {},
   "outputs": [],
   "source": []
  }
 ],
 "metadata": {
  "kernelspec": {
   "display_name": "Python 3 (ipykernel)",
   "language": "python",
   "name": "python3"
  },
  "language_info": {
   "codemirror_mode": {
    "name": "ipython",
    "version": 3
   },
   "file_extension": ".py",
   "mimetype": "text/x-python",
   "name": "python",
   "nbconvert_exporter": "python",
   "pygments_lexer": "ipython3",
   "version": "3.10.9"
  }
 },
 "nbformat": 4,
 "nbformat_minor": 5
}
