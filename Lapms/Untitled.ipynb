{
 "cells": [
  {
   "cell_type": "code",
   "execution_count": 1,
   "id": "944ec537",
   "metadata": {},
   "outputs": [
    {
     "name": "stdout",
     "output_type": "stream",
     "text": [
      "Please enter numbers :5\n",
      "Continue yes/no :yes\n",
      "Please enter numbers :5\n",
      "Continue yes/no :no\n",
      "sum is 10\n"
     ]
    }
   ],
   "source": [
    "total = 0\n",
    "answer = \"yes\"\n",
    "while answer == \"yes\":\n",
    "    number = int(input(\"Please enter numbers :\"))\n",
    "    total = total + number\n",
    "    answer = input('Continue yes/no :')\n",
    "print(\"sum is\",total)"
   ]
  },
  {
   "cell_type": "code",
   "execution_count": null,
   "id": "e8f01009",
   "metadata": {},
   "outputs": [],
   "source": []
  }
 ],
 "metadata": {
  "kernelspec": {
   "display_name": "Python 3 (ipykernel)",
   "language": "python",
   "name": "python3"
  },
  "language_info": {
   "codemirror_mode": {
    "name": "ipython",
    "version": 3
   },
   "file_extension": ".py",
   "mimetype": "text/x-python",
   "name": "python",
   "nbconvert_exporter": "python",
   "pygments_lexer": "ipython3",
   "version": "3.10.9"
  }
 },
 "nbformat": 4,
 "nbformat_minor": 5
}
