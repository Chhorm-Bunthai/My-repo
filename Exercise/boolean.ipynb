{
 "cells": [
  {
   "cell_type": "code",
   "execution_count": 19,
   "id": "6625d739",
   "metadata": {},
   "outputs": [
    {
     "name": "stdout",
     "output_type": "stream",
     "text": [
      "Please enter password at least 8 charcter upfhghfgdffdgdg\n",
      "True\n"
     ]
    }
   ],
   "source": [
    "password=input(\"Please enter password at least 8 charcter up\")\n",
    "pwd= len(password) >= 8\n",
    "print(pwd)"
   ]
  },
  {
   "cell_type": "code",
   "execution_count": 41,
   "id": "ee7068f3",
   "metadata": {},
   "outputs": [
    {
     "ename": "SyntaxError",
     "evalue": "invalid syntax (4261425034.py, line 3)",
     "output_type": "error",
     "traceback": [
      "\u001b[0;36m  Cell \u001b[0;32mIn[41], line 3\u001b[0;36m\u001b[0m\n\u001b[0;31m    txt= vowel in text[] ;\u001b[0m\n\u001b[0m                       ^\u001b[0m\n\u001b[0;31mSyntaxError\u001b[0m\u001b[0;31m:\u001b[0m invalid syntax\n"
     ]
    }
   ],
   "source": [
    "text=input(\"please enter text :\")\n",
    "tx= 'a' in text or 'e' in text or 'i' in text or 'o' in text or 'u' in text\n"
   ]
  },
  {
   "cell_type": "code",
   "execution_count": null,
   "id": "e7e0794a",
   "metadata": {},
   "outputs": [],
   "source": []
  }
 ],
 "metadata": {
  "kernelspec": {
   "display_name": "Python 3 (ipykernel)",
   "language": "python",
   "name": "python3"
  },
  "language_info": {
   "codemirror_mode": {
    "name": "ipython",
    "version": 3
   },
   "file_extension": ".py",
   "mimetype": "text/x-python",
   "name": "python",
   "nbconvert_exporter": "python",
   "pygments_lexer": "ipython3",
   "version": "3.10.9"
  }
 },
 "nbformat": 4,
 "nbformat_minor": 5
}
