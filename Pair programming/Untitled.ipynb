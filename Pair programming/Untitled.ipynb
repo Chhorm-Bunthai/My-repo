{
 "cells": [
  {
   "cell_type": "code",
   "execution_count": 2,
   "id": "2aa4f3ad",
   "metadata": {},
   "outputs": [
    {
     "name": "stdout",
     "output_type": "stream",
     "text": [
      "    *\n",
      "   ***\n",
      "  *****\n",
      "*********\n",
      "  *****\n",
      "   ***\n",
      "    *\n"
     ]
    }
   ],
   "source": [
    "print(\"    *\")\n",
    "print(\"   ***\")\n",
    "print(\"  *****\")\n",
    "print(\"*********\")\n",
    "print(\"  *****\")\n",
    "print(\"   ***\")\n",
    "print(\"    *\")"
   ]
  },
  {
   "cell_type": "code",
   "execution_count": 3,
   "id": "c032bed6",
   "metadata": {},
   "outputs": [
    {
     "data": {
      "text/plain": [
       "5"
      ]
     },
     "execution_count": 3,
     "metadata": {},
     "output_type": "execute_result"
    }
   ],
   "source": [
    "100 // 20\n"
   ]
  },
  {
   "cell_type": "code",
   "execution_count": 5,
   "id": "f200e77a",
   "metadata": {},
   "outputs": [
    {
     "data": {
      "text/plain": [
       "32"
      ]
     },
     "execution_count": 5,
     "metadata": {},
     "output_type": "execute_result"
    }
   ],
   "source": [
    "100 % 34"
   ]
  },
  {
   "cell_type": "code",
   "execution_count": 6,
   "id": "a9e5db8e",
   "metadata": {},
   "outputs": [
    {
     "data": {
      "text/plain": [
       "10000"
      ]
     },
     "execution_count": 6,
     "metadata": {},
     "output_type": "execute_result"
    }
   ],
   "source": [
    "100 ** 2"
   ]
  },
  {
   "cell_type": "code",
   "execution_count": 11,
   "id": "445f5764",
   "metadata": {},
   "outputs": [
    {
     "data": {
      "text/plain": [
       "'Hello World'"
      ]
     },
     "execution_count": 11,
     "metadata": {},
     "output_type": "execute_result"
    }
   ],
   "source": [
    "100 + 2\n",
    "'Hello' + ' World'"
   ]
  },
  {
   "cell_type": "code",
   "execution_count": 10,
   "id": "f357d070",
   "metadata": {},
   "outputs": [
    {
     "data": {
      "text/plain": [
       "'10020'"
      ]
     },
     "execution_count": 10,
     "metadata": {},
     "output_type": "execute_result"
    }
   ],
   "source": [
    "'100' + '20'"
   ]
  },
  {
   "cell_type": "code",
   "execution_count": 12,
   "id": "9cbec117",
   "metadata": {},
   "outputs": [
    {
     "data": {
      "text/plain": [
       "int"
      ]
     },
     "execution_count": 12,
     "metadata": {},
     "output_type": "execute_result"
    }
   ],
   "source": [
    "type(100)"
   ]
  },
  {
   "cell_type": "code",
   "execution_count": 13,
   "id": "ae495d6d",
   "metadata": {},
   "outputs": [
    {
     "data": {
      "text/plain": [
       "float"
      ]
     },
     "execution_count": 13,
     "metadata": {},
     "output_type": "execute_result"
    }
   ],
   "source": [
    "type(100.0)"
   ]
  },
  {
   "cell_type": "code",
   "execution_count": 14,
   "id": "159681da",
   "metadata": {},
   "outputs": [
    {
     "data": {
      "text/plain": [
       "str"
      ]
     },
     "execution_count": 14,
     "metadata": {},
     "output_type": "execute_result"
    }
   ],
   "source": [
    "type('100')"
   ]
  },
  {
   "cell_type": "code",
   "execution_count": 15,
   "id": "0dbbf57d",
   "metadata": {},
   "outputs": [
    {
     "name": "stdout",
     "output_type": "stream",
     "text": [
      "<class 'int'>\n"
     ]
    }
   ],
   "source": [
    "print(type(100))"
   ]
  },
  {
   "cell_type": "code",
   "execution_count": 16,
   "id": "5875086d",
   "metadata": {},
   "outputs": [
    {
     "data": {
      "text/plain": [
       "'102'"
      ]
     },
     "execution_count": 16,
     "metadata": {},
     "output_type": "execute_result"
    }
   ],
   "source": [
    "'10' + str(2)"
   ]
  },
  {
   "cell_type": "code",
   "execution_count": 17,
   "id": "e395d828",
   "metadata": {},
   "outputs": [
    {
     "ename": "SyntaxError",
     "evalue": "invalid syntax (2834873694.py, line 1)",
     "output_type": "error",
     "traceback": [
      "\u001b[0;36m  Cell \u001b[0;32mIn[17], line 1\u001b[0;36m\u001b[0m\n\u001b[0;31m    Il lue\u001b[0m\n\u001b[0m       ^\u001b[0m\n\u001b[0;31mSyntaxError\u001b[0m\u001b[0;31m:\u001b[0m invalid syntax\n"
     ]
    }
   ],
   "source": [
    "Il lue"
   ]
  },
  {
   "cell_type": "code",
   "execution_count": 21,
   "id": "38fdddc4",
   "metadata": {},
   "outputs": [
    {
     "data": {
      "text/plain": [
       "'I like Ice cream   168'"
      ]
     },
     "execution_count": 21,
     "metadata": {},
     "output_type": "execute_result"
    }
   ],
   "source": [
    "'I like Ice cream   ' + str( 168)"
   ]
  },
  {
   "cell_type": "code",
   "execution_count": 22,
   "id": "0ae70459",
   "metadata": {},
   "outputs": [
    {
     "data": {
      "text/plain": [
       "5.0"
      ]
     },
     "execution_count": 22,
     "metadata": {},
     "output_type": "execute_result"
    }
   ],
   "source": [
    "int(\"10\") /2"
   ]
  },
  {
   "cell_type": "code",
   "execution_count": 26,
   "id": "92d05760",
   "metadata": {},
   "outputs": [
    {
     "data": {
      "text/plain": [
       "40.6"
      ]
     },
     "execution_count": 26,
     "metadata": {},
     "output_type": "execute_result"
    }
   ],
   "source": [
    "weight=40.6\n",
    "weight"
   ]
  },
  {
   "cell_type": "code",
   "execution_count": 27,
   "id": "a4a34b9f",
   "metadata": {},
   "outputs": [
    {
     "data": {
      "text/plain": [
       "40.6"
      ]
     },
     "execution_count": 27,
     "metadata": {},
     "output_type": "execute_result"
    }
   ],
   "source": [
    "weight"
   ]
  },
  {
   "cell_type": "code",
   "execution_count": 28,
   "id": "d448e8a8",
   "metadata": {},
   "outputs": [
    {
     "name": "stdout",
     "output_type": "stream",
     "text": [
      "<class 'int'>\n",
      "<class 'float'>\n",
      "<class 'str'>\n"
     ]
    }
   ],
   "source": [
    "num=85\n",
    "print(type(num))\n",
    "pi=3.14159\n",
    "print(type(pi))\n",
    "message='Good morning'\n",
    "print(type(message))"
   ]
  },
  {
   "cell_type": "code",
   "execution_count": 31,
   "id": "c6f9b3de",
   "metadata": {},
   "outputs": [
    {
     "name": "stdout",
     "output_type": "stream",
     "text": [
      "Keyword lists\n",
      "['False', 'None', 'True', 'and', 'as', 'assert', 'async', 'await', 'break', 'class', 'continue', 'def', 'del', 'elif', 'else', 'except', 'finally', 'for', 'from', 'global', 'if', 'import', 'in', 'is', 'lambda', 'nonlocal', 'not', 'or', 'pass', 'raise', 'return', 'try', 'while', 'with', 'yield']\n"
     ]
    }
   ],
   "source": [
    "\n",
    "print('Keyword lists')\n",
    "print(keyword.kwlist)"
   ]
  },
  {
   "cell_type": "code",
   "execution_count": 32,
   "id": "68095ffe",
   "metadata": {},
   "outputs": [
    {
     "ename": "SyntaxError",
     "evalue": "invalid syntax (2879404755.py, line 1)",
     "output_type": "error",
     "traceback": [
      "\u001b[0;36m  Cell \u001b[0;32mIn[32], line 1\u001b[0;36m\u001b[0m\n\u001b[0;31m    global=500\u001b[0m\n\u001b[0m          ^\u001b[0m\n\u001b[0;31mSyntaxError\u001b[0m\u001b[0;31m:\u001b[0m invalid syntax\n"
     ]
    }
   ],
   "source": [
    "global=500"
   ]
  },
  {
   "cell_type": "code",
   "execution_count": 33,
   "id": "4443f083",
   "metadata": {},
   "outputs": [
    {
     "name": "stdout",
     "output_type": "stream",
     "text": [
      "Before swap a : 100 b: 50\n",
      "after swap a; 50 b: 100\n"
     ]
    }
   ],
   "source": [
    "a=100\n",
    "b=50\n",
    "print('Before swap a :',a, 'b:',b)\n",
    "temp=a;\n",
    "a=b;\n",
    "b=temp;\n",
    "print('after swap a;',a, 'b:' ,b)"
   ]
  },
  {
   "cell_type": "code",
   "execution_count": 36,
   "id": "8508aa4f",
   "metadata": {},
   "outputs": [
    {
     "name": "stdout",
     "output_type": "stream",
     "text": [
      "Before swap a : 100 b: 50\n",
      "after swap a; 50 b: 100\n"
     ]
    }
   ],
   "source": [
    "a=100\n",
    "b=50\n",
    "print('Before swap a :',a, 'b:',b)\n",
    "b,a=a,b\n",
    "print('after swap a;',a, 'b:' ,b)"
   ]
  },
  {
   "cell_type": "code",
   "execution_count": 37,
   "id": "d869d0df",
   "metadata": {},
   "outputs": [
    {
     "ename": "SyntaxError",
     "evalue": "unexpected character after line continuation character (1128054080.py, line 1)",
     "output_type": "error",
     "traceback": [
      "\u001b[0;36m  Cell \u001b[0;32mIn[37], line 1\u001b[0;36m\u001b[0m\n\u001b[0;31m    print(dfsvhgdfvbhvsdfvghfvdfs bhvvfsdytgvdf \\ dfsgfdshvbsdZVBgfdhvghdfzvuyjbfdgddsgfh dsvgerw \\ fhdgdsgvbsweaghjewtrewfvbdsgfdfsgvvf)\u001b[0m\n\u001b[0m                                                 ^\u001b[0m\n\u001b[0;31mSyntaxError\u001b[0m\u001b[0;31m:\u001b[0m unexpected character after line continuation character\n"
     ]
    }
   ],
   "source": [
    "print(dfsvhgdfvbhvsdfvghfvdfs bhvvfsdytgvdf \\ dfsgfdshvbsdZVBgfdhvghdfzvuyjbfdgddsgfh dsvgerw \\ fhdgdsgvbsweaghjewtrewfvbdsgfdfsgvvf)"
   ]
  },
  {
   "cell_type": "code",
   "execution_count": 38,
   "id": "5e1b9408",
   "metadata": {},
   "outputs": [
    {
     "name": "stdout",
     "output_type": "stream",
     "text": [
      "fdhgbfghvdfhvdfhgvdfghvfd\f",
      "hjgbfdsvdghvfdsbgfdsghvgferwhjgfds\\dghvfghvsdbjhvbdfsjhgfdrswejhg\f",
      "bvfdghvferwdghf\n"
     ]
    }
   ],
   "source": [
    "print('fdhgbfghvdfhvdfhgvdfghvfd\\fhjgbfdsvdghvfdsbgfdsghvgferwhjgfds\\dghvfghvsdbjhvbdfsjhgfdrswejhg\\fbvfdghvferwdghf')"
   ]
  },
  {
   "cell_type": "code",
   "execution_count": 39,
   "id": "cc676f7c",
   "metadata": {},
   "outputs": [
    {
     "name": "stdout",
     "output_type": "stream",
     "text": [
      "fdgvdgsvdsvbhdsgyfd \\ hdgvsfghvdsfbnvbjhgvf \\sdfvghvfdsghvdshjvbf \\sdbfhgvgfd\n"
     ]
    }
   ],
   "source": [
    "print('fdgvdgsvdsvbhdsgyfd \\ hdgvsfghvdsfbnvbjhgvf \\sdfvghvfdsghvdshjvbf \\sdbfhgvgfd')"
   ]
  },
  {
   "cell_type": "code",
   "execution_count": 41,
   "id": "60678bfb",
   "metadata": {},
   "outputs": [
    {
     "name": "stdout",
     "output_type": "stream",
     "text": [
      "fghgfhjghg dsbfhbdsfhbdfsgbdsfb fhbsdgsdfbbfhbsdhbfghb\n"
     ]
    }
   ],
   "source": [
    "print('fghgfhjghg \\\n",
    "dsbfhbdsfhbdfsgbdsfb \\\n",
    "fhbsdgsdfbbfhbsdhbfghb')"
   ]
  },
  {
   "cell_type": "code",
   "execution_count": 42,
   "id": "53753fc1",
   "metadata": {},
   "outputs": [
    {
     "name": "stdout",
     "output_type": "stream",
     "text": [
      "hello\n"
     ]
    }
   ],
   "source": [
    "print('hello')"
   ]
  },
  {
   "cell_type": "code",
   "execution_count": 43,
   "id": "abccf94c",
   "metadata": {},
   "outputs": [
    {
     "name": "stdout",
     "output_type": "stream",
     "text": [
      "100\n"
     ]
    }
   ],
   "source": [
    "print(int('50') + 50)"
   ]
  },
  {
   "cell_type": "code",
   "execution_count": 44,
   "id": "4d6c416d",
   "metadata": {},
   "outputs": [
    {
     "name": "stdout",
     "output_type": "stream",
     "text": [
      "5050\n"
     ]
    }
   ],
   "source": [
    "print('50'+\"50\")"
   ]
  },
  {
   "cell_type": "code",
   "execution_count": 45,
   "id": "de4dae1f",
   "metadata": {},
   "outputs": [
    {
     "name": "stdout",
     "output_type": "stream",
     "text": [
      "5050\n"
     ]
    }
   ],
   "source": [
    "print(\"50\" + \"50\")"
   ]
  },
  {
   "cell_type": "code",
   "execution_count": 48,
   "id": "f17781a2",
   "metadata": {},
   "outputs": [
    {
     "name": "stdout",
     "output_type": "stream",
     "text": [
      "1000\n"
     ]
    }
   ],
   "source": [
    "print(int(\"1\"+'0'+\"0\"+'0'))"
   ]
  },
  {
   "cell_type": "code",
   "execution_count": 51,
   "id": "a0106793",
   "metadata": {},
   "outputs": [
    {
     "name": "stdout",
     "output_type": "stream",
     "text": [
      "output of c is : 43.96\n",
      "Output of d is : 153.86\n"
     ]
    }
   ],
   "source": [
    "pi=3.14\n",
    "r=7\n",
    "circumstance=2 * pi * r\n",
    "Area=pi * (r ** 2)\n",
    "print('output of c is :',circumstance)\n",
    "print('Output of d is :',Area)"
   ]
  },
  {
   "cell_type": "code",
   "execution_count": null,
   "id": "820f0f05",
   "metadata": {},
   "outputs": [],
   "source": []
  }
 ],
 "metadata": {
  "kernelspec": {
   "display_name": "Python 3 (ipykernel)",
   "language": "python",
   "name": "python3"
  },
  "language_info": {
   "codemirror_mode": {
    "name": "ipython",
    "version": 3
   },
   "file_extension": ".py",
   "mimetype": "text/x-python",
   "name": "python",
   "nbconvert_exporter": "python",
   "pygments_lexer": "ipython3",
   "version": "3.10.9"
  }
 },
 "nbformat": 4,
 "nbformat_minor": 5
}
